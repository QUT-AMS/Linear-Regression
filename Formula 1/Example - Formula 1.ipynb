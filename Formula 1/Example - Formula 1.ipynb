{
 "cells": [
  {
   "cell_type": "markdown",
   "id": "14d089e2-2f99-46d7-a596-ed454be18cc9",
   "metadata": {},
   "source": [
    "# Linear Regression - Example: Formula 1 Data\n",
    "\n",
    "## Overview\n",
    "In this notebook, we will walk through a simple example of linear regression using a small Formula 1–inspired dataset. No prior knowledge of linear regression is assumed. We will:\n",
    "\n",
    "- Introduce the concept  \n",
    "- Load and inspect the data  \n",
    "- Visualize relationships  \n",
    "- Train a linear regression model  \n",
    "- Evaluate and interpret the results\n",
    "\n",
    "Let’s learn how to use linear regression with a real example:  \n",
    "**Can we predict a driver’s race finishing position based on their qualifying lap time?**"
   ]
  },
  {
   "cell_type": "markdown",
   "id": "3175150e-d482-4beb-9d06-0d05bae8c455",
   "metadata": {},
   "source": [
    "## 1. What Is Linear Regression?\n",
    "\n",
    "Linear regression is a statistical technique for modeling the relationship between a **predictor** (input) and a **response** (output) as a straight line:\n",
    "\n",
    "predicted_y = β₀ + β₁x\n",
    "\n",
    "- β₀ (intercept) shifts the line up/down.  \n",
    "- β₁ (slope) controls how steep the line is.  \n",
    "\n",
    "Our goal: given data points \\((x_i, y_i)\\), find the β₀ and β₁ that best “fit” those points."
   ]
  },
  {
   "cell_type": "markdown",
   "id": "5b346fbc-7f5d-41aa-8bd7-08f8271e2832",
   "metadata": {},
   "source": [
    "## 2. Setup and Imports"
   ]
  },
  {
   "cell_type": "code",
   "execution_count": 1,
   "id": "82ab6c0e-dedf-42cf-88b2-b68b8d4f9153",
   "metadata": {},
   "outputs": [],
   "source": [
    "# Standard data-science libraries\n",
    "import pandas as pd\n",
    "import numpy as np\n",
    "import matplotlib.pyplot as plt\n",
    "\n",
    "# Scikit-learn for linear regression\n",
    "from sklearn.linear_model import LinearRegression\n",
    "from sklearn.model_selection import train_test_split\n",
    "from sklearn.metrics import mean_squared_error, r2_score"
   ]
  },
  {
   "cell_type": "markdown",
   "id": "7857dcbd-12ac-4afd-93ef-1e3f32cf059e",
   "metadata": {},
   "source": [
    "# 3. Load the Data"
   ]
  },
  {
   "cell_type": "code",
   "execution_count": 2,
   "id": "e5d7ec7f-e34e-4856-8a43-bc55e6cb9f60",
   "metadata": {},
   "outputs": [],
   "source": [
    "qualifying = pd.read_csv('Data/qualifying.csv')\n",
    "results = pd.read_csv('Data/results.csv')"
   ]
  },
  {
   "cell_type": "code",
   "execution_count": 6,
   "id": "60af1085-c7c7-4a71-a531-936d6aa73b59",
   "metadata": {},
   "outputs": [
    {
     "name": "stdout",
     "output_type": "stream",
     "text": [
      "🔹 First 3 rows from Qualifying:\n",
      "   driverId  raceId        q1        q2        q3\n",
      "0         1      18  1:26.572  1:25.187  1:26.714\n",
      "1         9      18  1:26.103  1:25.315  1:26.869\n",
      "2         5      18  1:25.664  1:25.452  1:27.079\n",
      "\n",
      "🔹 First 3 rows from Race Results:\n",
      "   driverId  positionOrder fastestLap  raceId\n",
      "0         1              1         39      18\n",
      "1         2              2         41      18\n",
      "2         3              3         41      18\n",
      "\n",
      "📏 Dataset Sizes (Rows x Columns):\n",
      "Qualifying: 10494 rows × 9 columns\n",
      "Results: 26759 rows × 18 columns\n",
      "\n",
      "🏁 Top 5 Race Finishes:\n",
      "       driverId  positionOrder  raceId\n",
      "14628       224              1     594\n",
      "22061        20              1     897\n",
      "22083        20              1     898\n",
      "6812        102              1     315\n",
      "22127         3              1     900\n",
      "\n",
      "🧠 Missing Data Overview:\n",
      "Qualifying missing values:\n",
      " qualifyId         0\n",
      "raceId            0\n",
      "driverId          0\n",
      "constructorId     0\n",
      "number            0\n",
      "position          0\n",
      "q1                0\n",
      "q2               22\n",
      "q3               46\n",
      "dtype: int64\n",
      "\n",
      "Results missing values:\n",
      " resultId           0\n",
      "raceId             0\n",
      "driverId           0\n",
      "constructorId      0\n",
      "number             0\n",
      "grid               0\n",
      "position           0\n",
      "positionText       0\n",
      "positionOrder      0\n",
      "points             0\n",
      "laps               0\n",
      "time               0\n",
      "milliseconds       0\n",
      "fastestLap         0\n",
      "rank               0\n",
      "fastestLapTime     0\n",
      "fastestLapSpeed    0\n",
      "statusId           0\n",
      "dtype: int64\n"
     ]
    }
   ],
   "source": [
    "# 🔹 Preview: A quick glance at each dataset\n",
    "print(\"🔹 First 3 rows from Qualifying:\")\n",
    "print(qualifying[['driverId', 'raceId', 'q1', 'q2', 'q3']].head(3))\n",
    "\n",
    "print(\"\\n🔹 First 3 rows from Race Results:\")\n",
    "print(results[['driverId', 'positionOrder', 'fastestLap', 'raceId']].head(3))\n",
    "\n",
    "# 📏 Size check: How big are these files?\n",
    "print(\"\\n📏 Dataset Sizes (Rows x Columns):\")\n",
    "print(f\"Qualifying: {qualifying.shape[0]} rows × {qualifying.shape[1]} columns\")\n",
    "print(f\"Results: {results.shape[0]} rows × {results.shape[1]} columns\")\n",
    "\n",
    "# 🔍 Top Performers: Who placed best in races\n",
    "print(\"\\n🏁 Top 5 Race Finishes:\")\n",
    "print(results.sort_values('positionOrder')[['driverId', 'positionOrder', 'raceId']].head(5))\n",
    "\n",
    "# ❗Quick data check: Any missing info?\n",
    "print(\"\\n🧠 Missing Data Overview:\")\n",
    "print(\"Qualifying missing values:\\n\", qualifying.isnull().sum())\n",
    "print(\"\\nResults missing values:\\n\", results.isnull().sum())"
   ]
  },
  {
   "cell_type": "markdown",
   "id": "ab3a1e06-9067-423b-810b-b505d0b94591",
   "metadata": {},
   "source": [
    "# 5. Merge Data"
   ]
  },
  {
   "cell_type": "code",
   "execution_count": null,
   "id": "2128023b-1c5a-4e3f-85d0-e72a4803f83e",
   "metadata": {},
   "outputs": [],
   "source": [
    "# Merge on raceId and driverId\n",
    "merged = pd.merge(\n",
    "    qualifying,\n",
    "    results,\n",
    "    on=['raceId', 'driverId'],\n",
    "    how='inner'\n",
    ")\n",
    "\n",
    "# Keep only what you need\n",
    "merged = merged[['driverId', 'raceId', 'q3_seconds', 'positionOrder']].dropna()\n",
    "\n",
    "# Rename columns for clarity\n",
    "merged = merged.rename(columns={\n",
    "    'q3_seconds': 'qualifying_time',\n",
    "    'positionOrder': 'finishing_position'\n",
    "})\n",
    "\n",
    "# Preview the merged data\n",
    "merged.head()\n"
   ]
  },
  {
   "cell_type": "markdown",
   "id": "aa0623a4-02f0-4a1e-8130-479cbb735421",
   "metadata": {},
   "source": [
    "# 5. Visualize the Relationship"
   ]
  },
  {
   "cell_type": "code",
   "execution_count": null,
   "id": "c1cbb466-72a6-4218-b6af-d5daf1125dc7",
   "metadata": {},
   "outputs": [],
   "source": [
    "plt.scatter(data['qualifying_time'], data['finishing_position'])\n",
    "plt.xlabel('Qualifying Time (seconds)')\n",
    "plt.ylabel('Finishing Position')\n",
    "plt.title('Does Qualifying Time Predict Finishing Position?')\n",
    "plt.show()"
   ]
  },
  {
   "cell_type": "markdown",
   "id": "2121b9f0-4f7d-4bff-b3a0-4a584d2018bb",
   "metadata": {},
   "source": [
    "This scatter plot helps us see if a straight‐line model could make sense."
   ]
  },
  {
   "cell_type": "markdown",
   "id": "e5e06984-7142-45c0-88e8-02f63e57e044",
   "metadata": {},
   "source": [
    "# 6. Prepare Features and Target"
   ]
  },
  {
   "cell_type": "code",
   "execution_count": null,
   "id": "9567e9f1-91b1-4cbf-b3c1-58afc178f7bf",
   "metadata": {},
   "outputs": [],
   "source": [
    "# Our predictor (X) must be a 2D array: shape (n_samples, n_features)\n",
    "X = data[['qualifying_time']]\n",
    "\n",
    "# Our response (y) is a 1D array\n",
    "y = data['finishing_position']"
   ]
  },
  {
   "cell_type": "markdown",
   "id": "2af13b64-8abe-411f-b346-4ff87d0667be",
   "metadata": {},
   "source": [
    "# 7. Split into Training and Test Sets\n",
    "\n",
    "We split our 10 points into:\n",
    "- 80% training (for fitting the model)\n",
    "- 20% testing (for evaluating performance)"
   ]
  },
  {
   "cell_type": "code",
   "execution_count": null,
   "id": "d7e88ea1-370f-416e-bc1f-32825bdb4302",
   "metadata": {},
   "outputs": [],
   "source": [
    "X_train, X_test, y_train, y_test = train_test_split(\n",
    "    X, y, test_size=0.2, random_state=42\n",
    ")\n"
   ]
  },
  {
   "cell_type": "markdown",
   "id": "c12597db-5446-4be9-9840-13bc44c2d464",
   "metadata": {},
   "source": [
    "# 8. Train the Linear Regression Model"
   ]
  },
  {
   "cell_type": "code",
   "execution_count": null,
   "id": "fb5f069f-18ce-4ec9-a883-6a70e6845a26",
   "metadata": {},
   "outputs": [],
   "source": [
    "model = LinearRegression()\n",
    "model.fit(X_train, y_train)\n",
    "\n",
    "y_pred = model.predict(X_test)\n",
    "\n",
    "print('Intercept:', model.intercept_)\n",
    "print('Slope:', model.coef_)\n",
    "print('MAE:', mean_absolute_error(y_test, y_pred))\n",
    "print('R²:', r2_score(y_test, y_pred))\n",
    "\n",
    "plt.scatter(y_test, y_pred)\n",
    "plt.xlabel('Actual Finishing Position')\n",
    "plt.ylabel('Predicted Finishing Position')\n",
    "plt.title('Actual vs Predicted')\n",
    "plt.show()"
   ]
  },
  {
   "cell_type": "markdown",
   "id": "5fe0e1fb-7973-45d2-9e60-92460d9c2f5e",
   "metadata": {},
   "source": [
    "Once fitted, the model learns:\n",
    "- model.intercept_ → β₀\n",
    "- model.coef_[0] → β₁"
   ]
  }
 ],
 "metadata": {
  "kernelspec": {
   "display_name": "Python 3 (ipykernel)",
   "language": "python",
   "name": "python3"
  },
  "language_info": {
   "codemirror_mode": {
    "name": "ipython",
    "version": 3
   },
   "file_extension": ".py",
   "mimetype": "text/x-python",
   "name": "python",
   "nbconvert_exporter": "python",
   "pygments_lexer": "ipython3",
   "version": "3.10.0"
  }
 },
 "nbformat": 4,
 "nbformat_minor": 5
}
